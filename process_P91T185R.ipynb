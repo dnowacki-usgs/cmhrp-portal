{
 "cells": [
  {
   "cell_type": "code",
   "execution_count": null,
   "metadata": {},
   "outputs": [],
   "source": [
    "import portal\n",
    "import glob\n",
    "# import joblib\n",
    "# from joblib import Parallel, delayed\n",
    "import pcmsc\n",
    "import pandas as pd\n",
    "import xarray as xr\n",
    "import numpy as np\n",
    "%load_ext autoreload\n",
    "%autoreload 2"
   ]
  },
  {
   "cell_type": "code",
   "execution_count": null,
   "metadata": {},
   "outputs": [],
   "source": [
    "doi = \"P91T185R\"\n",
    "title = \"Time series of carbonate system parameters in Eastern Gulf of Mexico near Tampa Bay, Florida, USA\"\n",
    "summary = \"\"\"This data set contains time series measurements of carbonate system parameters including water temperature (°C), pressure (dbars), salinity, pHT (pH on the total scale), carbon dioxide (ppm), dissolved oxygen (milligrams/L), and photosynthetically active radiation (microEinsteins). These data were collected in the eastern Gulf of Mexico near Tampa Bay, Florida, at the University of South Florida Coastal Ocean and Monitoring Prediction System (COMPS) Buoy C12 by the U.S. Geological Survey (USGS) St. Petersburg Coastal and Marine Science Center using an autonomous instrument package called the Ocean Carbon System version 3 (OCSv3). The OCSv3 consists of four sensors integrated using a Sea-Bird Stor-X data logger including a Sea-Bird SeapHOx pH sensor, a Sea-Bird SBE 37-SMP-ODO MicroCAT C-T-ODO (P) Recorder, a Pro-Oceanus CO2-Pro CV sensor, and a Wetlabs Eco-PAR sensor. Each parameter was measured hourly over multiple twenty-four hour time periods, ranging from weeks to months.\"\"\""
   ]
  },
  {
   "cell_type": "code",
   "execution_count": null,
   "metadata": {},
   "outputs": [],
   "source": [
    "f = 'Gulf-of-Mexico-C12-OCSv3-Data-10252018-to-01292020/Gulf-of-Mexico-C12-OCSv3-Data-10252018-to-01292020.csv'\n",
    "c = pcmsc.convert(f, doi, title, summary)\n",
    "print(c)"
   ]
  },
  {
   "cell_type": "code",
   "execution_count": null,
   "metadata": {},
   "outputs": [],
   "source": [
    "\n",
    "\n",
    "print(ds)\n",
    "\n",
    "ds.attrs['Conventions'] = \"CF-1.6, ACDD-1.3\"\n",
    "for d in ds.coords:\n",
    "    ds[d].encoding[\"_FillValue\"] = None\n",
    "# no _FillValue for lat, lon just to be safe\n",
    "for d in [\"latitude\", \"longitude\"]:\n",
    "    ds[d].encoding[\"_FillValue\"] = None\n",
    "# CF: Add axis attr\n",
    "ds[\"time\"].attrs[\"axis\"] = \"T\"\n",
    "ds[\"longitude\"].attrs[\"axis\"] = \"X\"\n",
    "ds[\"latitude\"].attrs[\"axis\"] = \"Y\"\n",
    "for var, qual in zip([\"T(W) (C)\", \"PRESS (dbar)\", \"SALINITY\",    \"pHT\",    \"CO2(ppm)\", \"OXYGEN (mg/L)\", \"PAR (microEinsteins)\"],\n",
    "                     [\"QF_T(W)\",  \"QF_PRESS\",     \"QF_SALINITY\", \"QF_pHT\", \"QF_CO2\",   \"QF_OXYGEN\",     \"QF_PAR\"]):\n",
    "    # only keep values with QAQC values of 1\n",
    "    if ds[qual].dtype == int:\n",
    "        ds[var][ds[qual] != 1] = np.nan\n",
    "    elif ds[qual].dtype == object:\n",
    "        goods = []\n",
    "        for x in ds[qual].values:\n",
    "            if '1' in x:\n",
    "                goods.append(True)\n",
    "            else:\n",
    "                goods.append(False)\n",
    "        goods = np.array(goods)\n",
    "        ds[var][~goods] = np.nan\n",
    "for var in ds.data_vars:\n",
    "    if \"QF_\" in var:\n",
    "        ds[var].attrs[\"long_name\"] = \"A numeric value that indicates the quality of the reported data\"\n",
    "\n",
    "ds[\"PRES(IRGA) (mbar)\"].attrs[\"long_name\"] = \" pressure in the sampling chamber of the infrared gas analyzer of the CO2 sensor\"\n",
    "ds[\"PRES(IRGA) (mbar)\"].attrs[\"units\"] = \"mbar\"\n",
    "ds[\"CO2(ppm)\"].attrs[\"long_name\"] = \"concentration of oxygen in milligrams per liter of seawater\"\n",
    "ds[\"CO2(ppm)\"].attrs[\"units\"] = \"mg/L\"\n",
    "ds[\"PAR (microEinsteins)\"].attrs[\"long_name\"] = \"concentration of photosynthetically available radiation\"\n",
    "ds[\"PAR (microEinsteins)\"].attrs[\"units\"] = \"microEinsteins\"\n",
    "\n",
    "ds = portal.assign_standard_names(ds)\n",
    "for k in ds.data_vars:\n",
    "    ds[k].attrs[\"coverage_content_type\"] = \"physicalMeasurement\"\n",
    "print(ds)"
   ]
  },
  {
   "cell_type": "code",
   "execution_count": null,
   "metadata": {},
   "outputs": [],
   "source": []
  },
  {
   "cell_type": "code",
   "execution_count": null,
   "metadata": {},
   "outputs": [],
   "source": [
    "%%time\n",
    "files = glob.glob(f'../pcmsc/doi-{doi}/*.nc')\n",
    "n = 1\n",
    "for f in files:\n",
    "    print(n/len(files)*100, f)\n",
    "    c = pcmsc.convert(f, doi, title, summary)\n",
    "    print(c)\n",
    "    n += 1"
   ]
  },
  {
   "cell_type": "code",
   "execution_count": null,
   "metadata": {},
   "outputs": [],
   "source": [
    "files = glob.glob(f'../pcmsc/doi-{doi}/clean/*.nc')\n",
    "n = 1\n",
    "for f in files[100:110]:\n",
    "    print(n/len(files)*100, f)\n",
    "    cc = portal.check_compliance_system(f, \"cf:1.6\")\n",
    "    print(cc.stdout.decode('utf-8'))\n",
    "#     cc = portal.check_compliance_system(f, \"acdd\")\n",
    "#     print(cc.stdout.decode('utf-8'))\n",
    "    n += 1"
   ]
  },
  {
   "cell_type": "code",
   "execution_count": null,
   "metadata": {},
   "outputs": [],
   "source": [
    "%%time\n",
    "files = glob.glob('../pcmsc/doi-' + doi + '/*.nc')\n",
    "# need to specify multiprocessing so we get print statements\n",
    "Parallel(n_jobs=8, backend='multiprocessing')(delayed(convert)(f) for f in files)"
   ]
  }
 ],
 "metadata": {
  "kernelspec": {
   "display_name": "Python 3",
   "language": "python",
   "name": "python3"
  },
  "language_info": {
   "codemirror_mode": {
    "name": "ipython",
    "version": 3
   },
   "file_extension": ".py",
   "mimetype": "text/x-python",
   "name": "python",
   "nbconvert_exporter": "python",
   "pygments_lexer": "ipython3",
   "version": "3.7.6"
  }
 },
 "nbformat": 4,
 "nbformat_minor": 4
}
