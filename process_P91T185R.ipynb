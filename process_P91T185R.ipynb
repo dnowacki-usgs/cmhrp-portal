{
 "cells": [
  {
   "cell_type": "code",
   "execution_count": null,
   "metadata": {},
   "outputs": [],
   "source": [
    "import portal\n",
    "import glob\n",
    "# import joblib\n",
    "# from joblib import Parallel, delayed\n",
    "import pcmsc\n",
    "import pandas as pd\n",
    "import xarray as xr\n",
    "import numpy as np\n",
    "%load_ext autoreload\n",
    "%autoreload 2"
   ]
  },
  {
   "cell_type": "code",
   "execution_count": null,
   "metadata": {},
   "outputs": [],
   "source": [
    "doi = \"P91T185R\"\n",
    "title = \"Time series of carbonate system parameters in Eastern Gulf of Mexico near Tampa Bay, Florida, USA\"\n",
    "summary = \"\"\"This data set contains time series measurements of carbonate system parameters including water temperature (°C), pressure (dbars), salinity, pHT (pH on the total scale), carbon dioxide (ppm), dissolved oxygen (milligrams/L), and photosynthetically active radiation (microEinsteins). These data were collected in the eastern Gulf of Mexico near Tampa Bay, Florida, at the University of South Florida Coastal Ocean and Monitoring Prediction System (COMPS) Buoy C12 by the U.S. Geological Survey (USGS) St. Petersburg Coastal and Marine Science Center using an autonomous instrument package called the Ocean Carbon System version 3 (OCSv3). The OCSv3 consists of four sensors integrated using a Sea-Bird Stor-X data logger including a Sea-Bird SeapHOx pH sensor, a Sea-Bird SBE 37-SMP-ODO MicroCAT C-T-ODO (P) Recorder, a Pro-Oceanus CO2-Pro CV sensor, and a Wetlabs Eco-PAR sensor. Each parameter was measured hourly over multiple twenty-four hour time periods, ranging from weeks to months.\"\"\""
   ]
  },
  {
   "cell_type": "code",
   "execution_count": null,
   "metadata": {},
   "outputs": [],
   "source": [
    "f = '../spcmsc/doi-P91T185R/Gulf-of-Mexico-C12-OCSv3-Data-10252018-to-01292020.csv'\n",
    "c = pcmsc.convert(f, doi, title, summary, experiment_id='EGOMCOMPS', MOORING='C12')\n",
    "print(c)"
   ]
  },
  {
   "cell_type": "code",
   "execution_count": null,
   "metadata": {},
   "outputs": [],
   "source": [
    "files = glob.glob(f'../spcmsc/doi-{doi}/clean/*.nc')\n",
    "n = 1\n",
    "for f in files:\n",
    "    print(n/len(files)*100, f)\n",
    "    cc = portal.check_compliance_system(f, \"cf:1.6\")\n",
    "    print(cc.stdout.decode('utf-8'))\n",
    "#     cc = portal.check_compliance_system(f, \"acdd\")\n",
    "#     print(cc.stdout.decode('utf-8'))\n",
    "    n += 1"
   ]
  }
 ],
 "metadata": {
  "kernelspec": {
   "display_name": "Python 3",
   "language": "python",
   "name": "python3"
  },
  "language_info": {
   "codemirror_mode": {
    "name": "ipython",
    "version": 3
   },
   "file_extension": ".py",
   "mimetype": "text/x-python",
   "name": "python",
   "nbconvert_exporter": "python",
   "pygments_lexer": "ipython3",
   "version": "3.7.8"
  }
 },
 "nbformat": 4,
 "nbformat_minor": 4
}
