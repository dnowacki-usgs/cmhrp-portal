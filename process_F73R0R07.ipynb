{
 "cells": [
  {
   "cell_type": "code",
   "execution_count": null,
   "metadata": {},
   "outputs": [],
   "source": [
    "import portal\n",
    "import glob\n",
    "import joblib\n",
    "from joblib import Parallel, delayed\n",
    "import pcmsc\n",
    "\n",
    "%load_ext autoreload\n",
    "%autoreload 2"
   ]
  },
  {
   "cell_type": "code",
   "execution_count": null,
   "metadata": {},
   "outputs": [],
   "source": [
    "doi = \"F73R0R07\"\n",
    "title = \"Wind-wave and suspended-sediment data from Liberty Island and Little Holland Tract, Sacramento-San Joaquin Delta, California (ver. 2.0, September 2019)\"\n",
    "summary = \"\"\"Data were collected by the U.S. Geological Survey (USGS) Pacific Coastal and Marine Science Center to investigate the influence of wind waves on sediment dynamics in two flooded agricultural tracts in the northern Sacramento-San Joaquin Delta: Little Holland Tract and Liberty Island. This effort is part of a large interdisciplinary study led by the USGS California Water Science Center and funded by the U.S. Bureau of Reclamation to investigate how shallow-water habitats in the Sacramento-San Joaquin Delta function and whether they provide good habitat for native fish species, including the Delta smelt. Elevated turbidity is a requirement for Delta smelt habitat, and turbidity is largely comprised of suspended sediment. Wind waves develop in large open-water regions with large fetch, and can increase turbidity by mobilizing bottom sediments.\n",
    "\n",
    "Data were collected from several sites in Little Holland Tract (LHT) and Liberty Island (LI), including the Liberty Island Conservation Bank (LICB), from 2015 to 2017. Table 1 (below) lists the deployment name (DLXXX) and dates for each sampling station location. Station names starting with ‘H’ are in LHT; station names starting with ‘L’ are in LI, and the station name starting with ‘W’ is in LICB. At stations with a ‘W’ as the second character of the station name, we collected water-level, wind-wave, and turbidity time-series data. At stations with a ‘V’ as the second character of the station name, we collected water-level, wind-wave, and turbidity, as well as velocity time-series data. The turbidity sensors were calibrated to suspended-sediment concentration measured in water samples collected on site (tables 2a,b) for LHT and LI. Details on instrumentation and sampling are included on the individual pages for each station (see links below). Data were sequentially added to this data release as they were retrieved and post-processed. \"\"\""
   ]
  },
  {
   "cell_type": "code",
   "execution_count": null,
   "metadata": {},
   "outputs": [],
   "source": [
    "%%time\n",
    "files = glob.glob('../pcmsc/doi-' + doi + '/*.nc')\n",
    "for f in files:\n",
    "    print(f)\n",
    "    c = pcmsc.convert(f, doi, title, summary)\n",
    "    print(c)"
   ]
  },
  {
   "cell_type": "code",
   "execution_count": null,
   "metadata": {},
   "outputs": [],
   "source": [
    "files = glob.glob('../pcmsc/doi-' + doi + '/clean/*.nc')\n",
    "for f in files[0:10]:\n",
    "    print(f)\n",
    "    cc = portal.check_compliance_system(f, \"cf:1.6\")\n",
    "    print(cc.stdout.decode('utf-8'))\n",
    "#     cc = portal.check_compliance_system(f, \"acdd\")\n",
    "#     print(cc.stdout.decode('utf-8'))"
   ]
  },
  {
   "cell_type": "code",
   "execution_count": null,
   "metadata": {},
   "outputs": [],
   "source": [
    "%%time\n",
    "files = glob.glob('../pcmsc/doi-' + doi + '/*.nc')\n",
    "# need to specify multiprocessing so we get print statements\n",
    "Parallel(n_jobs=8, backend='multiprocessing')(delayed(convert)(f) for f in files)"
   ]
  }
 ],
 "metadata": {
  "kernelspec": {
   "display_name": "Python [conda env:stglib]",
   "language": "python",
   "name": "conda-env-stglib-py"
  },
  "language_info": {
   "codemirror_mode": {
    "name": "ipython",
    "version": 3
   },
   "file_extension": ".py",
   "mimetype": "text/x-python",
   "name": "python",
   "nbconvert_exporter": "python",
   "pygments_lexer": "ipython3",
   "version": "3.8.3"
  }
 },
 "nbformat": 4,
 "nbformat_minor": 4
}
