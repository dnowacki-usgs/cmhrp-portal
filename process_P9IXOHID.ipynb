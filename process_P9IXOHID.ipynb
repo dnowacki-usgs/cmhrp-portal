{
 "cells": [
  {
   "cell_type": "code",
   "execution_count": null,
   "metadata": {},
   "outputs": [],
   "source": [
    "import portal\n",
    "import glob\n",
    "import joblib\n",
    "from joblib import Parallel, delayed\n",
    "import pcmsc\n",
    "\n",
    "%load_ext autoreload\n",
    "%autoreload 2"
   ]
  },
  {
   "cell_type": "code",
   "execution_count": null,
   "metadata": {},
   "outputs": [],
   "source": [
    "doi = 'P9IXOHID'\n",
    "title = 'Time series data of oceanographic conditions from La Parguera, Puerto Rico, 2017-2018 Coral Reef Circulation and Sediment Dynamics Experiment'\n",
    "summary = \"\"\"Time-series data of water surface elevation, waves, currents, temperature, and salinity collected between 17 May 2017 and 17 Jan 2018 off the southwest coast of Puerto Rico in support of a study on circulation and sediment transport dynamics over coral reefs. The data are available in NetCDF format, grouped together in zip files by instrument site location. A README.txt file details the files contained within each zip, including the file names, type of data collected, instrument that collected the data, depth, and start and end dates/times.\"\"\""
   ]
  },
  {
   "cell_type": "code",
   "execution_count": null,
   "metadata": {},
   "outputs": [],
   "source": [
    "%%time\n",
    "files = glob.glob('../pcmsc/doi-' + doi + '/*.nc')\n",
    "for f in files:\n",
    "    print(f)\n",
    "    c = pcmsc.convert(f, doi, title, summary)\n",
    "    print(c)"
   ]
  },
  {
   "cell_type": "code",
   "execution_count": null,
   "metadata": {},
   "outputs": [],
   "source": [
    "files = glob.glob('../pcmsc/doi-' + doi + '/clean/*.nc')\n",
    "for f in files:\n",
    "    print(f)\n",
    "    cc = portal.check_compliance_system(f, \"cf:1.6\")\n",
    "    print(cc.stdout.decode('utf-8'))\n",
    "#     cc = portal.check_compliance_system(f, \"acdd\")\n",
    "#     print(cc.stdout.decode('utf-8'))"
   ]
  },
  {
   "cell_type": "code",
   "execution_count": null,
   "metadata": {},
   "outputs": [],
   "source": [
    "%%time\n",
    "files = glob.glob('../pcmsc/doi-' + doi + '/*.nc')\n",
    "# need to specify multiprocessing so we get print statements\n",
    "Parallel(n_jobs=8, backend='multiprocessing')(delayed(convert)(f) for f in files)"
   ]
  },
  {
   "cell_type": "code",
   "execution_count": null,
   "metadata": {},
   "outputs": [],
   "source": []
  }
 ],
 "metadata": {
  "kernelspec": {
   "display_name": "Python [conda env:stglib]",
   "language": "python",
   "name": "conda-env-stglib-py"
  },
  "language_info": {
   "codemirror_mode": {
    "name": "ipython",
    "version": 3
   },
   "file_extension": ".py",
   "mimetype": "text/x-python",
   "name": "python",
   "nbconvert_exporter": "python",
   "pygments_lexer": "ipython3",
   "version": "3.8.3"
  }
 },
 "nbformat": 4,
 "nbformat_minor": 4
}
