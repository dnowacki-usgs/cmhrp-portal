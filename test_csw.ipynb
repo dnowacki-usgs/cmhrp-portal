{
 "cells": [
  {
   "cell_type": "markdown",
   "metadata": {},
   "source": [
    "# Test gamone CSW for Florida data"
   ]
  },
  {
   "cell_type": "code",
   "execution_count": 1,
   "metadata": {},
   "outputs": [
    {
     "name": "stdout",
     "output_type": "stream",
     "text": [
      "2.0.2\n"
     ]
    }
   ],
   "source": [
    "from owslib.csw import CatalogueServiceWeb\n",
    "from owslib import fes\n",
    "import numpy as np\n",
    "endpoint = 'http://geoport.usgs.esipfed.org/csw'\n",
    "csw = CatalogueServiceWeb(endpoint,timeout=60)\n",
    "print(csw.version)"
   ]
  },
  {
   "cell_type": "code",
   "execution_count": 2,
   "metadata": {},
   "outputs": [
    {
     "data": {
      "text/plain": [
       "[Constraint: AdditionalQueryables - ['apiso:AccessConstraints', 'apiso:Classification', 'apiso:ConditionApplyingToAccessAndUse', 'apiso:Contributor', 'apiso:Creator', 'apiso:Degree', 'apiso:Lineage', 'apiso:OtherConstraints', 'apiso:Publisher', 'apiso:Relation', 'apiso:ResponsiblePartyRole', 'apiso:SpecificationDate', 'apiso:SpecificationDateType', 'apiso:SpecificationTitle'],\n",
       " Constraint: SupportedDublinCoreQueryables - ['csw:AnyText', 'dc:contributor', 'dc:creator', 'dc:date', 'dc:format', 'dc:identifier', 'dc:language', 'dc:publisher', 'dc:relation', 'dc:rights', 'dc:source', 'dc:subject', 'dc:title', 'dc:type', 'dct:abstract', 'dct:alternative', 'dct:modified', 'dct:spatial', 'ows:BoundingBox'],\n",
       " Constraint: SupportedISOQueryables - ['apiso:Abstract', 'apiso:AlternateTitle', 'apiso:AnyText', 'apiso:BoundingBox', 'apiso:CRS', 'apiso:CouplingType', 'apiso:CreationDate', 'apiso:Denominator', 'apiso:DistanceUOM', 'apiso:DistanceValue', 'apiso:Format', 'apiso:GeographicDescriptionCode', 'apiso:HasSecurityConstraints', 'apiso:Identifier', 'apiso:KeywordType', 'apiso:Language', 'apiso:Modified', 'apiso:OperatesOn', 'apiso:OperatesOnIdentifier', 'apiso:OperatesOnName', 'apiso:Operation', 'apiso:OrganisationName', 'apiso:ParentIdentifier', 'apiso:PublicationDate', 'apiso:ResourceLanguage', 'apiso:RevisionDate', 'apiso:ServiceType', 'apiso:ServiceTypeVersion', 'apiso:Subject', 'apiso:TempExtent_begin', 'apiso:TempExtent_end', 'apiso:Title', 'apiso:TopicCategory', 'apiso:Type']]"
      ]
     },
     "execution_count": 2,
     "metadata": {},
     "output_type": "execute_result"
    }
   ],
   "source": [
    "csw.get_operation_by_name('GetRecords').constraints"
   ]
  },
  {
   "cell_type": "code",
   "execution_count": 3,
   "metadata": {},
   "outputs": [
    {
     "name": "stdout",
     "output_type": "stream",
     "text": [
      "[None, 'Google GCS,Open Geospatial Consortium Web Map Service (WMS),Open Geospatial Consortium Sensor Observation Service (SOS),THREDDS NetCDF Subset Service,THREDDS HTTP Service', 'OGC:WMS,OGC:WCS', 'OPeNDAP:OPeNDAP,OGC:WMS,OGC:SOS,UNIDATA:NCSS,file', 'OPeNDAP:OPeNDAP,OGC:WMS,UNIDATA:NCSS', 'OPeNDAP:OPeNDAP,OGC:WMS,UNIDATA:NCSS,file']\n"
     ]
    }
   ],
   "source": [
    "try:\n",
    "    csw.get_operation_by_name('GetDomain')\n",
    "    csw.getdomain('apiso:ServiceType', 'property')\n",
    "    print(csw.results['values'])\n",
    "except:\n",
    "    print('GetDomain not supported')"
   ]
  },
  {
   "cell_type": "code",
   "execution_count": 4,
   "metadata": {},
   "outputs": [
    {
     "name": "stdout",
     "output_type": "stream",
     "text": [
      "5\n",
      "gov.USGS.coastal:UFK14Aqua1571aqc-trm\n",
      "gov.USGS.coastal:UFK14ArgE1495aqd-trm\n",
      "gov.USGS.coastal:UFK14ArgE306aqd-trm\n",
      "gov.USGS.coastal:UFK14RBR77750p-trm\n",
      "gov.usgs.cmgp:COAWST.USEAST.Forecast\n"
     ]
    }
   ],
   "source": [
    "val = 'Florida'\n",
    "filter1 = fes.PropertyIsLike(propertyname='apiso:AnyText',literal=('*%s*' % val),\n",
    "                        escapeChar='\\\\',wildCard='*',singleChar='?')\n",
    "csw.getrecords2(constraints=[ filter1 ],maxrecords=100,esn='full')\n",
    "print(len(csw.records.keys()))\n",
    "for rec in list(csw.records.keys()):\n",
    "    print(csw.records[rec].identifier)"
   ]
  },
  {
   "cell_type": "code",
   "execution_count": null,
   "metadata": {},
   "outputs": [],
   "source": []
  }
 ],
 "metadata": {
  "kernelspec": {
   "display_name": "Python 3",
   "language": "python",
   "name": "python3"
  },
  "language_info": {
   "codemirror_mode": {
    "name": "ipython",
    "version": 3
   },
   "file_extension": ".py",
   "mimetype": "text/x-python",
   "name": "python",
   "nbconvert_exporter": "python",
   "pygments_lexer": "ipython3",
   "version": "3.7.2"
  }
 },
 "nbformat": 4,
 "nbformat_minor": 2
}
