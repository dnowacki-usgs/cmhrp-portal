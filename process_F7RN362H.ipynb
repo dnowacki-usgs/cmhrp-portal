{
 "cells": [
  {
   "cell_type": "code",
   "execution_count": null,
   "metadata": {},
   "outputs": [],
   "source": [
    "import portal\n",
    "import glob\n",
    "import joblib\n",
    "from joblib import Parallel, delayed\n",
    "import pcmsc\n",
    "\n",
    "%load_ext autoreload\n",
    "%autoreload 2"
   ]
  },
  {
   "cell_type": "code",
   "execution_count": null,
   "metadata": {},
   "outputs": [],
   "source": [
    "doi = \"F7RN362H\"\n",
    "title = \"Data from coastal circulation and water-column properties in the National Park of American Samoa, February-July 2015\"\n",
    "summary = \"\"\"In 2015, U.S. Geological Survey (USGS) and U.S. National Park Service (NPS) researchers began a collaborative study to determine coastal circulation patterns and water-column properties along north-central Tutuila, in an area focused on NPSA’s Tutuila Unit and its coral reef ecosystem. The continuous measurements of waves, currents, tides, and water-column properties (temperature and salinity) from these instrument deployments, coupled with available meteorological measurements of wind and rainfall, provide information on nearshore circulation and the variability in these hydrodynamic properties for NPSA’s Tutuila Unit. These data will complement ongoing and future water quality efforts along north-central Tutuila and in NPSA that will provide baseline information to determine impacts resulting from management and (or) climate change.\n",
    "\n",
    "The field experiment included collection of continuous oceanographic data, as well as spatially extensive shipboard surveys and drifter deployments in NPSA from February through July 2015. The goals of the experiment were to understand controls on flow patterns and water-column properties in the NPSA. To do this, the USGS and NPS set out to complete the following tasks: \n",
    "\n",
    "Measure temporal variability in wave heights, wave periods, wave directions, current speeds, current directions, temperature, and salinity.\n",
    "Measure spatial variability in current speeds, current directions, temperature, salinity, chlorophyll, turbidity, and light transmission.\n",
    "Track pathways of Lagrangian ocean surface current drifters to understand transport pathways of buoyant surface material (coral larvae, debris, search-and rescue, etc).\n",
    "Compile modeled deep-water wave height, wave period, and wave direction data and locally-measured wind speed, wind direction, rainfall and barometric pressure.\n",
    "Determine the influence of oceanographic and meteorologic forcing on circulation patterns and water-column properties along north-central Tutuila and in NPSA waters.\n",
    "This data release includes data from acoustic doppler current profilers, conductivity-temperature-depth profilers, satellite-tracked Lagrangian surface-current drifters, and other time-series oceanographic data. A full description of the data and findings of the study are included in a USGS Open File Report:\n",
    "Storlazzi, C.D., Cheriton, O.M., Rosenberger, K.J., Logan, J.B., and Clark, T.B., 2017, Coastal circulation and water-column properties in the National Park of American Samoa, February–July 2015: U.S. Geological Survey Open-File Report 2017–1060, 104 p., https://doi.org/10.3133/ofr20171060. \"\"\""
   ]
  },
  {
   "cell_type": "code",
   "execution_count": null,
   "metadata": {},
   "outputs": [],
   "source": [
    "%%time\n",
    "files = glob.glob('../pcmsc/doi-' + doi + '/**/*adc*.nc')\n",
    "for f in files:\n",
    "    print(f)\n",
    "    c = pcmsc.convert(f, doi, title, summary)\n",
    "    print(c)"
   ]
  },
  {
   "cell_type": "code",
   "execution_count": null,
   "metadata": {},
   "outputs": [],
   "source": [
    "files = glob.glob('../pcmsc/doi-' + doi + '/**/clean/*.nc')\n",
    "for f in files:\n",
    "    print(f)\n",
    "    cc = portal.check_compliance_system(f, \"cf:1.6\")\n",
    "    print(cc.stdout.decode('utf-8'))\n",
    "#     cc = portal.check_compliance_system(f, \"acdd\")\n",
    "#     print(cc.stdout.decode('utf-8'))"
   ]
  },
  {
   "cell_type": "code",
   "execution_count": null,
   "metadata": {},
   "outputs": [],
   "source": [
    "%%time\n",
    "files = glob.glob('../pcmsc/doi-' + doi + '/*.nc')\n",
    "# need to specify multiprocessing so we get print statements\n",
    "Parallel(n_jobs=8, backend='multiprocessing')(delayed(convert)(f) for f in files)"
   ]
  }
 ],
 "metadata": {
  "kernelspec": {
   "display_name": "Python [conda env:stglib]",
   "language": "python",
   "name": "conda-env-stglib-py"
  },
  "language_info": {
   "codemirror_mode": {
    "name": "ipython",
    "version": 3
   },
   "file_extension": ".py",
   "mimetype": "text/x-python",
   "name": "python",
   "nbconvert_exporter": "python",
   "pygments_lexer": "ipython3",
   "version": "3.8.3"
  }
 },
 "nbformat": 4,
 "nbformat_minor": 4
}
