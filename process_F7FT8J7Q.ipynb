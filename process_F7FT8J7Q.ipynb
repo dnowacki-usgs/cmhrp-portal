{
 "cells": [
  {
   "cell_type": "code",
   "execution_count": null,
   "metadata": {},
   "outputs": [],
   "source": [
    "import portal\n",
    "import glob\n",
    "import joblib\n",
    "from joblib import Parallel, delayed\n",
    "import pcmsc\n",
    "\n",
    "%load_ext autoreload\n",
    "%autoreload 2"
   ]
  },
  {
   "cell_type": "code",
   "execution_count": null,
   "metadata": {},
   "outputs": [],
   "source": [
    "doi = 'F7FT8J7Q'\n",
    "title = 'Time-series oceanographic data from the Monterey Canyon, CA October 2015 - March 2017'\n",
    "summary = \"\"\"Time-series data of water depth, velocity, turbidity, and temperature were acquired between 5 October 2015 and 21 March 2017 within the Monterey Canyon off of Monterey, CA, USA.\n",
    "\n",
    "In order to better understand the triggering, progression and evolution of turbidity currents in Monterey Submarine Canyon, an experiment was designed to directly measure velocity, suspended sediment and physical water properties (temperature, salinity and density) along the canyon axis during an 18-month period.\n",
    "\n",
    "Three moorings in the upper canyon (MS1, MS2, MS3) containing oceanographic instruments and Anderson- type sediment traps were deployed during three consecutive six-month periods (A: October 2015 - April 2016; B: April - October 2016; C: October 2016 - March 2017). In addition, a bottom platform to the South of the canyon head (MS0) housed instrumentation to measure currents and waves on the adjacent shelf. The mooring diagram image files are a generalized representation of the deployed instrumentation at each site, and are included as a visual aid for understanding the sampling environment. A text file of the specific sensors listing the parameters measured is also included.\"\"\""
   ]
  },
  {
   "cell_type": "code",
   "execution_count": null,
   "metadata": {},
   "outputs": [],
   "source": [
    "%%time\n",
    "files = glob.glob(f'../pcmsc/doi-{doi}/*.nc')\n",
    "n = 1\n",
    "for f in files:\n",
    "    print(n/len(files)*100, f)\n",
    "    c = pcmsc.convert(f, doi, title, summary)\n",
    "    print(c)\n",
    "    n += 1"
   ]
  },
  {
   "cell_type": "code",
   "execution_count": null,
   "metadata": {},
   "outputs": [],
   "source": [
    "files = glob.glob(f'../pcmsc/doi-{doi}/clean/*.nc')\n",
    "n = 1\n",
    "for f in files:\n",
    "    print(n/len(files)*100, f)\n",
    "    cc = portal.check_compliance_system(f, \"cf:1.6\")\n",
    "    print(cc.stdout.decode('utf-8'))\n",
    "#     cc = portal.check_compliance_system(f, \"acdd\")\n",
    "#     print(cc.stdout.decode('utf-8'))\n",
    "    n += 1"
   ]
  },
  {
   "cell_type": "code",
   "execution_count": null,
   "metadata": {},
   "outputs": [],
   "source": [
    "%%time\n",
    "files = glob.glob('../pcmsc/doi-' + doi + '/*.nc')\n",
    "# need to specify multiprocessing so we get print statements\n",
    "Parallel(n_jobs=8, backend='multiprocessing')(delayed(convert)(f) for f in files)"
   ]
  },
  {
   "cell_type": "code",
   "execution_count": null,
   "metadata": {},
   "outputs": [],
   "source": []
  }
 ],
 "metadata": {
  "kernelspec": {
   "display_name": "Python [conda env:stglib]",
   "language": "python",
   "name": "conda-env-stglib-py"
  },
  "language_info": {
   "codemirror_mode": {
    "name": "ipython",
    "version": 3
   },
   "file_extension": ".py",
   "mimetype": "text/x-python",
   "name": "python",
   "nbconvert_exporter": "python",
   "pygments_lexer": "ipython3",
   "version": "3.8.3"
  }
 },
 "nbformat": 4,
 "nbformat_minor": 4
}
