{
 "cells": [
  {
   "cell_type": "code",
   "execution_count": null,
   "metadata": {},
   "outputs": [],
   "source": [
    "import portal\n",
    "import glob\n",
    "import joblib\n",
    "from joblib import Parallel, delayed\n",
    "import pcmsc\n",
    "\n",
    "%load_ext autoreload\n",
    "%autoreload 2"
   ]
  },
  {
   "cell_type": "code",
   "execution_count": null,
   "metadata": {},
   "outputs": [],
   "source": [
    "doi = 'F7HM56MX'\n",
    "title = 'Hydrodynamic and sediment transport data from San Pablo Bay and China Camp marsh (northern San Francisco Bay), 2013-2016'\n",
    "summary = \"\"\"The U.S. Geological Survey Pacific Coastal and Marine Science Center collected data to investigate sediment dynamics in the shallows of San Pablo Bay and sediment exchange between bay shallows and the tidal salt marsh in China Camp State Park in a series of deployments between December 2013 and June 2016. This data release includes two related groups of data sets. The first group, denoted by names starting with CHC, is from deployments with stations in the San Pablo Bay channel, shallows, and mudflats, and within China Camp marsh. The second, denoted by names starting with SP, is from deployments at a subset of the stations in the San Pablo Bay shallows, collected during intervals between the CHC deployments. Stations locations, instrumentation, and data types are detailed on the pages for each deployment.\n",
    "\n",
    "Salt marshes are indispensable coastal environments, providing critical habitat for several endangered wildlife species, nutrients to coastal waters, and coastal protection to nearby communities, yet these areas are vulnerable to sea-level rise. Marshes adapt to sea-level rise by accreting plant-derived material and imported sediment from adjacent waters. However, many of the models and simulations used to predict how marshes will respond to sea-level rise rely upon simplistic representations of sediment supply. The CHC experiments were designed to improve understanding of the temporal variability of sediment transport to marshes, and the factors governing this variability. A second objective was to quantify spatial patterns of suspended sediment concentration (SSC), which is an indicator of sediment available to the marsh, in San Pablo Bay shallows and within the marsh. The objective of the SP deployments was to extend the investigation of spatial and temporal variability in SSC and sediment dynamics in the San Pablo Bay shallows to the full range of seasonal conditions. Together these data sets are intended to better inform predictions of marsh resilience, and support improvements to sediment transport models for estuaries.\"\"\""
   ]
  },
  {
   "cell_type": "code",
   "execution_count": null,
   "metadata": {},
   "outputs": [],
   "source": [
    "%%time\n",
    "# files = glob.glob(f'../pcmsc/doi-{doi}/CHC13*.nc')\n",
    "# files = glob.glob(f'../pcmsc/doi-{doi}/CHC14*.nc')\n",
    "# files = glob.glob(f'../pcmsc/doi-{doi}/CHC16*.nc')\n",
    "# files = glob.glob(f'../pcmsc/doi-{doi}/SP*.nc')\n",
    "files = glob.glob(f'../pcmsc/doi-{doi}/CHC**/*.nc')\n",
    "n = 1\n",
    "for f in files:\n",
    "    if 'lst' in f:\n",
    "        continue\n",
    "    print(n/len(files)*100, f)\n",
    "    c = pcmsc.convert(f, doi, title, summary)\n",
    "    print(c)\n",
    "    n += 1"
   ]
  },
  {
   "cell_type": "code",
   "execution_count": null,
   "metadata": {},
   "outputs": [],
   "source": [
    "# files = glob.glob(f'../pcmsc/doi-{doi}/clean/SP*.nc')\n",
    "files = glob.glob(f'../pcmsc/doi-{doi}/clean/CHC*SPD*nc')\n",
    "n = 1\n",
    "for f in files:\n",
    "    print(n/len(files)*100, f)\n",
    "    cc = portal.check_compliance_system(f, \"cf:1.6\")\n",
    "    print(cc.stdout.decode('utf-8'))\n",
    "#     cc = portal.check_compliance_system(f, \"acdd\")\n",
    "#     print(cc.stdout.decode('utf-8'))\n",
    "    n += 1"
   ]
  },
  {
   "cell_type": "code",
   "execution_count": null,
   "metadata": {},
   "outputs": [],
   "source": []
  }
 ],
 "metadata": {
  "kernelspec": {
   "display_name": "Python [conda env:stglib]",
   "language": "python",
   "name": "conda-env-stglib-py"
  },
  "language_info": {
   "codemirror_mode": {
    "name": "ipython",
    "version": 3
   },
   "file_extension": ".py",
   "mimetype": "text/x-python",
   "name": "python",
   "nbconvert_exporter": "python",
   "pygments_lexer": "ipython3",
   "version": "3.8.5"
  }
 },
 "nbformat": 4,
 "nbformat_minor": 4
}
